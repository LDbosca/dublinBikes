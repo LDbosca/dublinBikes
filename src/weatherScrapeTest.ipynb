{
 "cells": [
  {
   "cell_type": "markdown",
   "metadata": {},
   "source": [
    "This is a first attempt at scraping weather data using the openweathermap API - I've to tidy it and make lots of changes but it'll give the general idea."
   ]
  },
  {
   "cell_type": "code",
   "execution_count": 1,
   "metadata": {},
   "outputs": [],
   "source": [
    "\n",
    "\n",
    "import pandas as pd\n",
    "import json\n",
    "import numpy as np\n",
    "import matplotlib.pyplot as plt\n",
    "import requests\n",
    "from datetime import datetime\n",
    "import pymysql\n",
    "\n"
   ]
  },
  {
   "cell_type": "code",
   "execution_count": 2,
   "metadata": {},
   "outputs": [],
   "source": [
    "#retrieve weather data and store as a string\n",
    "url='http://api.openweathermap.org/data/2.5/weather?q=Dublin,ie&units=metric&APPID=7c4d32959a99216eeb3c99efc8000278'\n",
    "weatherDataString=requests.get(url=url)\n"
   ]
  },
  {
   "cell_type": "code",
   "execution_count": 3,
   "metadata": {
    "scrolled": true
   },
   "outputs": [],
   "source": [
    "wds = weatherDataString.json()"
   ]
  },
  {
   "cell_type": "code",
   "execution_count": 4,
   "metadata": {},
   "outputs": [
    {
     "name": "stdout",
     "output_type": "stream",
     "text": [
      "2019-02-18 16:32\n",
      "weatherID is 521\n",
      "weatherMain is Rain\n",
      "weatherDescr is shower rain\n",
      "temp is 9.49\n",
      "pressure is 1008\n",
      "humidity is 66\n",
      "tempMin is 9\n",
      "tempMax is 10\n",
      "visibility is 10000\n",
      "windspeed is 5.7\n",
      "windDegree is 240\n",
      "clouds is 40\n"
     ]
    }
   ],
   "source": [
    "#store the current time and date in a variable so that we can store it in our MySQL DB\n",
    "currentTime = datetime.now().strftime('%Y-%m-%d %H:%M')\n",
    "print(currentTime)\n",
    "\n",
    "#store each piece of data from the weather info json as a variable so that we may later store it in out MySQL DB\n",
    "#data is rounded to 2 decimal points - I'm probably gonna change them to ints\n",
    "\n",
    "\n",
    "weatherID = wds['weather'][0]['id']\n",
    "print(\"weatherID is\", weatherID)\n",
    "weatherMain = wds['weather'][0]['main']\n",
    "print(\"weatherMain is\", weatherMain)\n",
    "weatherDescr = wds['weather'][0]['description']\n",
    "print(\"weatherDescr is\", weatherDescr)\n",
    "weatherIcon = wds['weather'][0]['icon']\n",
    "\n",
    "temp = round(wds['main']['temp'],2)\n",
    "print(\"temp is\", temp)\n",
    "pressure = wds['main']['pressure']\n",
    "print(\"pressure is\", pressure)\n",
    "humidity = wds['main']['humidity']\n",
    "print(\"humidity is\", humidity)\n",
    "tempMin = round(wds['main']['temp_min'],2)\n",
    "print(\"tempMin is\", tempMin)\n",
    "tempMax = round(wds['main']['temp_max'],2)\n",
    "print(\"tempMax is\", tempMax)\n",
    "visibility = wds['visibility']\n",
    "print(\"visibility is\", visibility)\n",
    "\n",
    "windSpeed = round(wds['wind']['speed'],2)\n",
    "print(\"windspeed is\", windSpeed)\n",
    "windDegree = round(wds['wind']['deg'],2)\n",
    "print(\"windDegree is\", windDegree)\n",
    "#wind gust is not always present so we place it in a try/except block\n",
    "try:\n",
    "    windGust = round(wds['wind']['gust'],2)\n",
    "    print(\"windGust is\", windGust)\n",
    "except:\n",
    "    pass\n",
    "clouds = wds['clouds']['all']\n",
    "print(\"clouds is\", clouds)\n",
    "\n",
    "\n"
   ]
  },
  {
   "cell_type": "code",
   "execution_count": 5,
   "metadata": {},
   "outputs": [
    {
     "data": {
      "text/plain": [
       "float"
      ]
     },
     "execution_count": 5,
     "metadata": {},
     "output_type": "execute_result"
    }
   ],
   "source": [
    "type(windSpeed)"
   ]
  },
  {
   "cell_type": "code",
   "execution_count": 6,
   "metadata": {},
   "outputs": [
    {
     "name": "stdout",
     "output_type": "stream",
     "text": [
      "{'coord': {'lon': -6.26, 'lat': 53.35}, 'weather': [{'id': 521, 'main': 'Rain', 'description': 'shower rain', 'icon': '09d'}], 'base': 'stations', 'main': {'temp': 9.49, 'pressure': 1008, 'humidity': 66, 'temp_min': 9, 'temp_max': 10}, 'visibility': 10000, 'wind': {'speed': 5.7, 'deg': 240}, 'clouds': {'all': 40}, 'dt': 1550505600, 'sys': {'type': 1, 'id': 1565, 'message': 0.0035, 'country': 'IE', 'sunrise': 1550475375, 'sunset': 1550511746}, 'id': 2964574, 'name': 'Dublin', 'cod': 200}\n"
     ]
    }
   ],
   "source": [
    "print(weatherDataString.json())\n",
    "\n",
    "\n",
    "#with open(\"currentWeather.json\", \"w\") as file:\n",
    "#   file.write(weatherDataString)"
   ]
  },
  {
   "cell_type": "code",
   "execution_count": null,
   "metadata": {},
   "outputs": [],
   "source": []
  },
  {
   "cell_type": "code",
   "execution_count": null,
   "metadata": {},
   "outputs": [],
   "source": []
  },
  {
   "cell_type": "code",
   "execution_count": null,
   "metadata": {},
   "outputs": [],
   "source": []
  },
  {
   "cell_type": "code",
   "execution_count": null,
   "metadata": {},
   "outputs": [],
   "source": []
  },
  {
   "cell_type": "code",
   "execution_count": null,
   "metadata": {},
   "outputs": [],
   "source": [
    "\n"
   ]
  },
  {
   "cell_type": "code",
   "execution_count": null,
   "metadata": {},
   "outputs": [],
   "source": []
  },
  {
   "cell_type": "code",
   "execution_count": null,
   "metadata": {},
   "outputs": [],
   "source": []
  },
  {
   "cell_type": "code",
   "execution_count": 73,
   "metadata": {},
   "outputs": [],
   "source": []
  },
  {
   "cell_type": "code",
   "execution_count": 76,
   "metadata": {},
   "outputs": [],
   "source": []
  },
  {
   "cell_type": "code",
   "execution_count": 80,
   "metadata": {},
   "outputs": [],
   "source": []
  },
  {
   "cell_type": "code",
   "execution_count": 7,
   "metadata": {},
   "outputs": [],
   "source": [
    "#login details for AWS RDS DB\n",
    "\n",
    "host=\"dbproject.cqkm9hf5jptc.eu-west-1.rds.amazonaws.com\"\n",
    "port=3306\n",
    "dbname=\"dublinbikesDB\"\n",
    "user=\"user\"\n",
    "password=\"dublinbikes\""
   ]
  },
  {
   "cell_type": "code",
   "execution_count": 8,
   "metadata": {},
   "outputs": [],
   "source": [
    "#create a connection with the details above passed in\n",
    "conn = pymysql.connect(host, user=user,port=port, passwd=password, db=dbname)"
   ]
  },
  {
   "cell_type": "code",
   "execution_count": null,
   "metadata": {},
   "outputs": [],
   "source": []
  },
  {
   "cell_type": "code",
   "execution_count": 9,
   "metadata": {},
   "outputs": [],
   "source": [
    "#this creates a cursor object that you need to execute operations on the DB\n",
    "cursorObject = conn.cursor()\n",
    "\n",
    "\n",
    "#This hideous statement inserts all the info from the variables a few cells above. I'm going to make it pretty, I promise. Note the escape characters for if you're doing one.\n",
    "insertStatement = \"INSERT INTO weatherInfo (dateTime, weatherID, weatherMain, weatherDescr, weatherIcon, temperature, pressure, humidity, tempMin, tempMax, visibility, windSpeed, windDeg, clouds) VALUES (\\\"\" + str(currentTime) + \"\\\",\\\"\" + str(weatherID) + \"\\\",\\\"\" + str(weatherMain) + \"\\\",\\\"\"+ str(weatherDescr) + \"\\\",\\\"\" + str(weatherIcon) + \"\\\",\\\"\" + str(temp) + \"\\\",\\\"\" + str(pressure) + \"\\\",\\\"\" + str(humidity) + \"\\\",\\\"\" + str(tempMin) + \"\\\",\\\"\" + str(tempMax) + \"\\\",\\\"\" + str(visibility) + \"\\\",\\\"\" + str(windSpeed) + \"\\\",\\\"\" + str(windDegree) + \"\\\",\\\"\" + str(clouds) + \"\\\")\"\n",
    "\n"
   ]
  },
  {
   "cell_type": "code",
   "execution_count": 10,
   "metadata": {},
   "outputs": [
    {
     "name": "stdout",
     "output_type": "stream",
     "text": [
      "INSERT INTO weatherInfo (dateTime, weatherID, weatherMain, weatherDescr, weatherIcon, temperature, pressure, humidity, tempMin, tempMax, visibility, windSpeed, windDeg, clouds) VALUES (\"2019-02-18 16:32\",\"521\",\"Rain\",\"shower rain\",\"09d\",\"9.49\",\"1008\",\"66\",\"9\",\"10\",\"10000\",\"5.7\",\"240\",\"40\")\n"
     ]
    }
   ],
   "source": [
    "#this is just for debug\n",
    "print(insertStatement)"
   ]
  },
  {
   "cell_type": "code",
   "execution_count": 11,
   "metadata": {},
   "outputs": [
    {
     "data": {
      "text/plain": [
       "1"
      ]
     },
     "execution_count": 11,
     "metadata": {},
     "output_type": "execute_result"
    }
   ],
   "source": [
    "#actually executes the insert statement defined above - note you also have to commit it for it to take effect\n",
    "#afaik a return value of 1 means it was successful\n",
    "cursorObject.execute(insertStatement)"
   ]
  },
  {
   "cell_type": "code",
   "execution_count": 12,
   "metadata": {},
   "outputs": [],
   "source": [
    "#this actually causes any changes or queries to be executed\n",
    "conn.commit()"
   ]
  },
  {
   "cell_type": "code",
   "execution_count": 13,
   "metadata": {},
   "outputs": [],
   "source": [
    "#closes the connection to the DB\n",
    "conn.close()"
   ]
  },
  {
   "cell_type": "code",
   "execution_count": null,
   "metadata": {},
   "outputs": [],
   "source": []
  }
 ],
 "metadata": {
  "kernelspec": {
   "display_name": "Python 3",
   "language": "python",
   "name": "python3"
  },
  "language_info": {
   "codemirror_mode": {
    "name": "ipython",
    "version": 3
   },
   "file_extension": ".py",
   "mimetype": "text/x-python",
   "name": "python",
   "nbconvert_exporter": "python",
   "pygments_lexer": "ipython3",
   "version": "3.7.2"
  }
 },
 "nbformat": 4,
 "nbformat_minor": 2
}
