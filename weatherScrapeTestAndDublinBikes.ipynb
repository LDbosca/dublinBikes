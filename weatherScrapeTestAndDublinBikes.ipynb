{
 "cells": [
  {
   "cell_type": "markdown",
   "metadata": {},
   "source": [
    "This is a first attempt at scraping weather data using the openweathermap API - I've to tidy it and make lots of changes but it'll give the general idea."
   ]
  },
  {
   "cell_type": "code",
   "execution_count": 2,
   "metadata": {},
   "outputs": [],
   "source": [
    "\n",
    "\n",
    "import pandas as pd\n",
    "import json\n",
    "import numpy as np\n",
    "import matplotlib.pyplot as plt\n",
    "import requests\n",
    "from datetime import datetime\n",
    "import pymysql\n",
    "\n"
   ]
  },
  {
   "cell_type": "code",
   "execution_count": 3,
   "metadata": {},
   "outputs": [],
   "source": [
    "#retrieve weather data and store as a string\n",
    "url='http://api.openweathermap.org/data/2.5/weather?q=Dublin,ie&units=metric&APPID=7c4d32959a99216eeb3c99efc8000278'\n",
    "weatherDataString=requests.get(url=url)\n",
    "\n",
    "dburl='https://api.jcdecaux.com/vls/v1/stations?contract=dublin&apiKey=a3d2f945558b9f5f4eb7c43a28e4a87a99531d25'\n",
    "dbds=requests.get(dburl).json()"
   ]
  },
  {
   "cell_type": "code",
   "execution_count": 4,
   "metadata": {
    "scrolled": true
   },
   "outputs": [],
   "source": [
    "wds = weatherDataString.json()"
   ]
  },
  {
   "cell_type": "code",
   "execution_count": null,
   "metadata": {},
   "outputs": [],
   "source": []
  },
  {
   "cell_type": "code",
   "execution_count": 4,
   "metadata": {},
   "outputs": [
    {
     "name": "stdout",
     "output_type": "stream",
     "text": [
      "2019-02-18 16:32\n",
      "weatherID is 521\n",
      "weatherMain is Rain\n",
      "weatherDescr is shower rain\n",
      "temp is 9.49\n",
      "pressure is 1008\n",
      "humidity is 66\n",
      "tempMin is 9\n",
      "tempMax is 10\n",
      "visibility is 10000\n",
      "windspeed is 5.7\n",
      "windDegree is 240\n",
      "clouds is 40\n"
     ]
    }
   ],
   "source": [
    "#store the current time and date in a variable so that we can store it in our MySQL DB\n",
    "currentTime = datetime.now().strftime('%Y-%m-%d %H:%M')\n",
    "print(currentTime)\n",
    "\n",
    "#store each piece of data from the weather info json as a variable so that we may later store it in out MySQL DB\n",
    "#data is rounded to 2 decimal points - I'm probably gonna change them to ints\n",
    "\n",
    "\n",
    "weatherID = wds['weather'][0]['id']\n",
    "print(\"weatherID is\", weatherID)\n",
    "weatherMain = wds['weather'][0]['main']\n",
    "print(\"weatherMain is\", weatherMain)\n",
    "weatherDescr = wds['weather'][0]['description']\n",
    "print(\"weatherDescr is\", weatherDescr)\n",
    "weatherIcon = wds['weather'][0]['icon']\n",
    "\n",
    "temp = round(wds['main']['temp'],2)\n",
    "print(\"temp is\", temp)\n",
    "pressure = wds['main']['pressure']\n",
    "print(\"pressure is\", pressure)\n",
    "humidity = wds['main']['humidity']\n",
    "print(\"humidity is\", humidity)\n",
    "tempMin = round(wds['main']['temp_min'],2)\n",
    "print(\"tempMin is\", tempMin)\n",
    "tempMax = round(wds['main']['temp_max'],2)\n",
    "print(\"tempMax is\", tempMax)\n",
    "visibility = wds['visibility']\n",
    "print(\"visibility is\", visibility)\n",
    "\n",
    "windSpeed = round(wds['wind']['speed'],2)\n",
    "print(\"windspeed is\", windSpeed)\n",
    "windDegree = round(wds['wind']['deg'],2)\n",
    "print(\"windDegree is\", windDegree)\n",
    "#wind gust is not always present so we place it in a try/except block\n",
    "try:\n",
    "    windGust = round(wds['wind']['gust'],2)\n",
    "    print(\"windGust is\", windGust)\n",
    "except:\n",
    "    pass\n",
    "clouds = wds['clouds']['all']\n",
    "print(\"clouds is\", clouds)\n",
    "\n",
    "\n"
   ]
  },
  {
   "cell_type": "code",
   "execution_count": 5,
   "metadata": {},
   "outputs": [
    {
     "data": {
      "text/plain": [
       "float"
      ]
     },
     "execution_count": 5,
     "metadata": {},
     "output_type": "execute_result"
    }
   ],
   "source": [
    "type(windSpeed)"
   ]
  },
  {
   "cell_type": "code",
   "execution_count": 6,
   "metadata": {},
   "outputs": [
    {
     "name": "stdout",
     "output_type": "stream",
     "text": [
      "{'coord': {'lon': -6.26, 'lat': 53.35}, 'weather': [{'id': 521, 'main': 'Rain', 'description': 'shower rain', 'icon': '09d'}], 'base': 'stations', 'main': {'temp': 9.49, 'pressure': 1008, 'humidity': 66, 'temp_min': 9, 'temp_max': 10}, 'visibility': 10000, 'wind': {'speed': 5.7, 'deg': 240}, 'clouds': {'all': 40}, 'dt': 1550505600, 'sys': {'type': 1, 'id': 1565, 'message': 0.0035, 'country': 'IE', 'sunrise': 1550475375, 'sunset': 1550511746}, 'id': 2964574, 'name': 'Dublin', 'cod': 200}\n"
     ]
    }
   ],
   "source": [
    "print(weatherDataString.json())\n",
    "\n",
    "\n",
    "#with open(\"currentWeather.json\", \"w\") as file:\n",
    "#   file.write(weatherDataString)"
   ]
  },
  {
   "cell_type": "code",
   "execution_count": 6,
   "metadata": {},
   "outputs": [
    {
     "name": "stdout",
     "output_type": "stream",
     "text": [
      "[{'number': 42, 'contract_name': 'Dublin', 'name': 'SMITHFIELD NORTH', 'address': 'Smithfield North', 'position': {'lat': 53.349562, 'lng': -6.278198}, 'banking': True, 'bonus': False, 'bike_stands': 30, 'available_bike_stands': 22, 'available_bikes': 8, 'status': 'OPEN', 'last_update': 1550511150000}, {'number': 30, 'contract_name': 'Dublin', 'name': 'PARNELL SQUARE NORTH', 'address': 'Parnell Square North', 'position': {'lat': 53.353462, 'lng': -6.265305}, 'banking': True, 'bonus': False, 'bike_stands': 20, 'available_bike_stands': 20, 'available_bikes': 0, 'status': 'OPEN', 'last_update': 1550511049000}, {'number': 54, 'contract_name': 'Dublin', 'name': 'CLONMEL STREET', 'address': 'Clonmel Street', 'position': {'lat': 53.336021, 'lng': -6.26298}, 'banking': False, 'bonus': False, 'bike_stands': 33, 'available_bike_stands': 33, 'available_bikes': 0, 'status': 'OPEN', 'last_update': 1550510879000}, {'number': 108, 'contract_name': 'Dublin', 'name': 'AVONDALE ROAD', 'address': 'Avondale Road', 'position': {'lat': 53.359405, 'lng': -6.276142}, 'banking': False, 'bonus': False, 'bike_stands': 40, 'available_bike_stands': 15, 'available_bikes': 24, 'status': 'OPEN', 'last_update': 1550511001000}, {'number': 56, 'contract_name': 'Dublin', 'name': 'MOUNT STREET LOWER', 'address': 'Mount Street Lower', 'position': {'lat': 53.33796, 'lng': -6.24153}, 'banking': False, 'bonus': False, 'bike_stands': 40, 'available_bike_stands': 38, 'available_bikes': 2, 'status': 'OPEN', 'last_update': 1550511225000}, {'number': 6, 'contract_name': 'Dublin', 'name': 'CHRISTCHURCH PLACE', 'address': 'Christchurch Place', 'position': {'lat': 53.343368, 'lng': -6.27012}, 'banking': False, 'bonus': False, 'bike_stands': 20, 'available_bike_stands': 18, 'available_bikes': 2, 'status': 'OPEN', 'last_update': 1550511031000}, {'number': 18, 'contract_name': 'Dublin', 'name': 'GRANTHAM STREET', 'address': 'Grantham Street', 'position': {'lat': 53.334123, 'lng': -6.265436}, 'banking': True, 'bonus': False, 'bike_stands': 30, 'available_bike_stands': 21, 'available_bikes': 9, 'status': 'OPEN', 'last_update': 1550511241000}, {'number': 32, 'contract_name': 'Dublin', 'name': 'PEARSE STREET', 'address': 'Pearse Street', 'position': {'lat': 53.344304, 'lng': -6.250427}, 'banking': True, 'bonus': False, 'bike_stands': 30, 'available_bike_stands': 8, 'available_bikes': 22, 'status': 'OPEN', 'last_update': 1550511176000}, {'number': 52, 'contract_name': 'Dublin', 'name': 'YORK STREET EAST', 'address': 'York Street East', 'position': {'lat': 53.338755, 'lng': -6.262003}, 'banking': False, 'bonus': False, 'bike_stands': 32, 'available_bike_stands': 16, 'available_bikes': 16, 'status': 'OPEN', 'last_update': 1550511235000}, {'number': 48, 'contract_name': 'Dublin', 'name': 'EXCISE WALK', 'address': 'Excise Walk', 'position': {'lat': 53.347777, 'lng': -6.244239}, 'banking': False, 'bonus': False, 'bike_stands': 40, 'available_bike_stands': 2, 'available_bikes': 38, 'status': 'OPEN', 'last_update': 1550511237000}, {'number': 13, 'contract_name': 'Dublin', 'name': 'FITZWILLIAM SQUARE WEST', 'address': 'Fitzwilliam Square West', 'position': {'lat': 53.336074, 'lng': -6.252825}, 'banking': False, 'bonus': False, 'bike_stands': 30, 'available_bike_stands': 25, 'available_bikes': 5, 'status': 'OPEN', 'last_update': 1550511028000}, {'number': 43, 'contract_name': 'Dublin', 'name': 'PORTOBELLO ROAD', 'address': 'Portobello Road', 'position': {'lat': 53.330091, 'lng': -6.268044}, 'banking': True, 'bonus': False, 'bike_stands': 30, 'available_bike_stands': 14, 'available_bikes': 16, 'status': 'OPEN', 'last_update': 1550511230000}, {'number': 81, 'contract_name': 'Dublin', 'name': 'ST. JAMES HOSPITAL (CENTRAL)', 'address': 'St. James Hospital (Central)', 'position': {'lat': 53.339983, 'lng': -6.295594}, 'banking': False, 'bonus': False, 'bike_stands': 40, 'available_bike_stands': 40, 'available_bikes': 0, 'status': 'OPEN', 'last_update': 1550510777000}, {'number': 31, 'contract_name': 'Dublin', 'name': 'PARNELL STREET', 'address': 'Parnell Street', 'position': {'lat': 53.350929, 'lng': -6.265125}, 'banking': False, 'bonus': False, 'bike_stands': 20, 'available_bike_stands': 6, 'available_bikes': 14, 'status': 'OPEN', 'last_update': 1550511226000}, {'number': 98, 'contract_name': 'Dublin', 'name': 'FREDERICK STREET SOUTH', 'address': 'Frederick Street South', 'position': {'lat': 53.341515, 'lng': -6.256853}, 'banking': True, 'bonus': False, 'bike_stands': 40, 'available_bike_stands': 40, 'available_bikes': 0, 'status': 'OPEN', 'last_update': 1550510835000}, {'number': 14, 'contract_name': 'Dublin', 'name': 'FOWNES STREET UPPER', 'address': 'Fownes Street Upper', 'position': {'lat': 53.344603, 'lng': -6.263371}, 'banking': False, 'bonus': False, 'bike_stands': 30, 'available_bike_stands': 0, 'available_bikes': 30, 'status': 'OPEN', 'last_update': 1550510975000}, {'number': 23, 'contract_name': 'Dublin', 'name': 'CUSTOM HOUSE', 'address': 'Custom House', 'position': {'lat': 53.348279, 'lng': -6.254662}, 'banking': True, 'bonus': False, 'bike_stands': 30, 'available_bike_stands': 2, 'available_bikes': 28, 'status': 'OPEN', 'last_update': 1550511204000}, {'number': 106, 'contract_name': 'Dublin', 'name': 'RATHDOWN ROAD', 'address': 'Rathdown Road', 'position': {'lat': 53.35893, 'lng': -6.280337}, 'banking': False, 'bonus': False, 'bike_stands': 40, 'available_bike_stands': 37, 'available_bikes': 3, 'status': 'OPEN', 'last_update': 1550510990000}, {'number': 112, 'contract_name': 'Dublin', 'name': \"NORTH CIRCULAR ROAD (O'CONNELL'S)\", 'address': \"North Circular Road (O'Connell's)\", 'position': {'lat': 53.357841, 'lng': -6.251557}, 'banking': False, 'bonus': False, 'bike_stands': 30, 'available_bike_stands': 22, 'available_bikes': 8, 'status': 'OPEN', 'last_update': 1550511240000}, {'number': 68, 'contract_name': 'Dublin', 'name': 'HANOVER QUAY', 'address': 'Hanover Quay', 'position': {'lat': 53.344115, 'lng': -6.237153}, 'banking': True, 'bonus': False, 'bike_stands': 40, 'available_bike_stands': 40, 'available_bikes': 0, 'status': 'OPEN', 'last_update': 1550511225000}, {'number': 74, 'contract_name': 'Dublin', 'name': 'OLIVER BOND STREET', 'address': 'Oliver Bond Street', 'position': {'lat': 53.343893, 'lng': -6.280531}, 'banking': False, 'bonus': False, 'bike_stands': 30, 'available_bike_stands': 27, 'available_bikes': 3, 'status': 'OPEN', 'last_update': 1550511146000}, {'number': 87, 'contract_name': 'Dublin', 'name': 'COLLINS BARRACKS MUSEUM', 'address': 'Collins Barracks Museum', 'position': {'lat': 53.347477, 'lng': -6.28525}, 'banking': True, 'bonus': False, 'bike_stands': 38, 'available_bike_stands': 36, 'available_bikes': 2, 'status': 'OPEN', 'last_update': 1550511208000}, {'number': 84, 'contract_name': 'Dublin', 'name': 'BROOKFIELD ROAD', 'address': 'Brookfield Road', 'position': {'lat': 53.339005, 'lng': -6.300217}, 'banking': False, 'bonus': False, 'bike_stands': 30, 'available_bike_stands': 20, 'available_bikes': 10, 'status': 'OPEN', 'last_update': 1550511232000}, {'number': 90, 'contract_name': 'Dublin', 'name': 'BENSON STREET', 'address': 'Benson Street', 'position': {'lat': 53.344153, 'lng': -6.233451}, 'banking': False, 'bonus': False, 'bike_stands': 40, 'available_bike_stands': 40, 'available_bikes': 0, 'status': 'OPEN', 'last_update': 1550511044000}, {'number': 11, 'contract_name': 'Dublin', 'name': 'EARLSFORT TERRACE', 'address': 'Earlsfort Terrace', 'position': {'lat': 53.334019, 'lng': -6.258371}, 'banking': False, 'bonus': False, 'bike_stands': 30, 'available_bike_stands': 30, 'available_bikes': 0, 'status': 'OPEN', 'last_update': 1550511005000}, {'number': 17, 'contract_name': 'Dublin', 'name': 'GOLDEN LANE', 'address': 'Golden Lane', 'position': {'lat': 53.340803, 'lng': -6.267732}, 'banking': False, 'bonus': False, 'bike_stands': 20, 'available_bike_stands': 18, 'available_bikes': 2, 'status': 'OPEN', 'last_update': 1550511210000}, {'number': 45, 'contract_name': 'Dublin', 'name': 'DEVERELL PLACE', 'address': 'Deverell Place', 'position': {'lat': 53.351464, 'lng': -6.255265}, 'banking': False, 'bonus': False, 'bike_stands': 30, 'available_bike_stands': 23, 'available_bikes': 7, 'status': 'OPEN', 'last_update': 1550510679000}, {'number': 114, 'contract_name': 'Dublin', 'name': 'WILTON TERRACE (PARK)', 'address': 'Wilton Terrace (Park)', 'position': {'lat': 53.333653, 'lng': -6.248345}, 'banking': True, 'bonus': False, 'bike_stands': 40, 'available_bike_stands': 40, 'available_bikes': 0, 'status': 'OPEN', 'last_update': 1550511173000}, {'number': 72, 'contract_name': 'Dublin', 'name': 'JOHN STREET WEST', 'address': 'John Street West', 'position': {'lat': 53.343105, 'lng': -6.277167}, 'banking': False, 'bonus': False, 'bike_stands': 31, 'available_bike_stands': 31, 'available_bikes': 0, 'status': 'OPEN', 'last_update': 1550511010000}, {'number': 63, 'contract_name': 'Dublin', 'name': 'FENIAN STREET', 'address': 'Fenian Street', 'position': {'lat': 53.341428, 'lng': -6.24672}, 'banking': False, 'bonus': False, 'bike_stands': 35, 'available_bike_stands': 15, 'available_bikes': 20, 'status': 'OPEN', 'last_update': 1550511142000}, {'number': 113, 'contract_name': 'Dublin', 'name': 'MERRION SQUARE SOUTH', 'address': 'Merrion Square South', 'position': {'lat': 53.338614, 'lng': -6.248606}, 'banking': True, 'bonus': False, 'bike_stands': 40, 'available_bike_stands': 20, 'available_bikes': 20, 'status': 'OPEN', 'last_update': 1550511228000}, {'number': 91, 'contract_name': 'Dublin', 'name': 'SOUTH DOCK ROAD', 'address': 'South Dock Road', 'position': {'lat': 53.341833, 'lng': -6.231291}, 'banking': False, 'bonus': False, 'bike_stands': 30, 'available_bike_stands': 12, 'available_bikes': 18, 'status': 'OPEN', 'last_update': 1550511234000}, {'number': 99, 'contract_name': 'Dublin', 'name': 'CITY QUAY', 'address': 'City Quay', 'position': {'lat': 53.346637, 'lng': -6.246154}, 'banking': False, 'bonus': False, 'bike_stands': 30, 'available_bike_stands': 11, 'available_bikes': 19, 'status': 'OPEN', 'last_update': 1550510903000}, {'number': 9, 'contract_name': 'Dublin', 'name': 'EXCHEQUER STREET', 'address': 'Exchequer Street', 'position': {'lat': 53.343034, 'lng': -6.263578}, 'banking': False, 'bonus': False, 'bike_stands': 24, 'available_bike_stands': 17, 'available_bikes': 7, 'status': 'OPEN', 'last_update': 1550511227000}, {'number': 67, 'contract_name': 'Dublin', 'name': 'THE POINT', 'address': 'The Point', 'position': {'lat': 53.346867, 'lng': -6.230852}, 'banking': False, 'bonus': False, 'bike_stands': 40, 'available_bike_stands': 4, 'available_bikes': 36, 'status': 'OPEN', 'last_update': 1550511233000}, {'number': 55, 'contract_name': 'Dublin', 'name': 'HATCH STREET', 'address': 'Hatch Street', 'position': {'lat': 53.33403, 'lng': -6.260714}, 'banking': False, 'bonus': False, 'bike_stands': 36, 'available_bike_stands': 36, 'available_bikes': 0, 'status': 'OPEN', 'last_update': 1550510943000}, {'number': 62, 'contract_name': 'Dublin', 'name': 'LIME STREET', 'address': 'Lime Street', 'position': {'lat': 53.346026, 'lng': -6.243576}, 'banking': False, 'bonus': False, 'bike_stands': 40, 'available_bike_stands': 27, 'available_bikes': 13, 'status': 'OPEN', 'last_update': 1550511228000}, {'number': 5, 'contract_name': 'Dublin', 'name': 'CHARLEMONT PLACE', 'address': 'Charlemont Street', 'position': {'lat': 53.330662, 'lng': -6.260177}, 'banking': False, 'bonus': False, 'bike_stands': 40, 'available_bike_stands': 30, 'available_bikes': 10, 'status': 'OPEN', 'last_update': 1550511182000}, {'number': 97, 'contract_name': 'Dublin', 'name': 'KILMAINHAM GAOL', 'address': 'Kilmainham Gaol', 'position': {'lat': 53.342113, 'lng': -6.310015}, 'banking': True, 'bonus': False, 'bike_stands': 40, 'available_bike_stands': 38, 'available_bikes': 2, 'status': 'OPEN', 'last_update': 1550511138000}, {'number': 61, 'contract_name': 'Dublin', 'name': 'HARDWICKE PLACE', 'address': 'Hardwicke Place', 'position': {'lat': 53.357043, 'lng': -6.263232}, 'banking': True, 'bonus': False, 'bike_stands': 25, 'available_bike_stands': 25, 'available_bikes': 0, 'status': 'OPEN', 'last_update': 1550511217000}, {'number': 77, 'contract_name': 'Dublin', 'name': 'WOLFE TONE STREET', 'address': 'Wolfe Tone Street', 'position': {'lat': 53.348875, 'lng': -6.267459}, 'banking': False, 'bonus': False, 'bike_stands': 29, 'available_bike_stands': 29, 'available_bikes': 0, 'status': 'OPEN', 'last_update': 1550511220000}, {'number': 73, 'contract_name': 'Dublin', 'name': 'FRANCIS STREET', 'address': 'Francis Street', 'position': {'lat': 53.342081, 'lng': -6.275233}, 'banking': False, 'bonus': False, 'bike_stands': 30, 'available_bike_stands': 25, 'available_bikes': 5, 'status': 'OPEN', 'last_update': 1550511239000}, {'number': 4, 'contract_name': 'Dublin', 'name': 'GREEK STREET', 'address': 'Greek Street', 'position': {'lat': 53.346874, 'lng': -6.272976}, 'banking': False, 'bonus': False, 'bike_stands': 20, 'available_bike_stands': 20, 'available_bikes': 0, 'status': 'OPEN', 'last_update': 1550510975000}, {'number': 49, 'contract_name': 'Dublin', 'name': 'GUILD STREET', 'address': 'Guild Street', 'position': {'lat': 53.347932, 'lng': -6.240928}, 'banking': False, 'bonus': False, 'bike_stands': 40, 'available_bike_stands': 3, 'available_bikes': 37, 'status': 'OPEN', 'last_update': 1550511225000}, {'number': 19, 'contract_name': 'Dublin', 'name': 'HERBERT PLACE', 'address': 'Herbert Place', 'position': {'lat': 53.334432, 'lng': -6.245575}, 'banking': False, 'bonus': False, 'bike_stands': 30, 'available_bike_stands': 30, 'available_bikes': 0, 'status': 'OPEN', 'last_update': 1550511170000}, {'number': 7, 'contract_name': 'Dublin', 'name': 'HIGH STREET', 'address': 'High Street', 'position': {'lat': 53.343565, 'lng': -6.275071}, 'banking': True, 'bonus': False, 'bike_stands': 29, 'available_bike_stands': 18, 'available_bikes': 11, 'status': 'OPEN', 'last_update': 1550511008000}, {'number': 60, 'contract_name': 'Dublin', 'name': 'NORTH CIRCULAR ROAD', 'address': 'North Circular Road', 'position': {'lat': 53.359624, 'lng': -6.260348}, 'banking': False, 'bonus': False, 'bike_stands': 30, 'available_bike_stands': 12, 'available_bikes': 18, 'status': 'OPEN', 'last_update': 1550511148000}, {'number': 102, 'contract_name': 'Dublin', 'name': 'WESTERN WAY', 'address': 'Western Way', 'position': {'lat': 53.354929, 'lng': -6.269425}, 'banking': False, 'bonus': False, 'bike_stands': 40, 'available_bike_stands': 22, 'available_bikes': 18, 'status': 'OPEN', 'last_update': 1550510918000}, {'number': 38, 'contract_name': 'Dublin', 'name': 'TALBOT STREET', 'address': 'Talbot Street', 'position': {'lat': 53.350974, 'lng': -6.25294}, 'banking': False, 'bonus': False, 'bike_stands': 40, 'available_bike_stands': 24, 'available_bikes': 16, 'status': 'OPEN', 'last_update': 1550511092000}, {'number': 53, 'contract_name': 'Dublin', 'name': 'NEWMAN HOUSE', 'address': 'Newman House', 'position': {'lat': 53.337132, 'lng': -6.26059}, 'banking': False, 'bonus': False, 'bike_stands': 40, 'available_bike_stands': 35, 'available_bikes': 5, 'status': 'OPEN', 'last_update': 1550511240000}, {'number': 58, 'contract_name': 'Dublin', 'name': \"SIR PATRICK DUN'S\", 'address': \"Sir Patrick's Dun\", 'position': {'lat': 53.339218, 'lng': -6.240642}, 'banking': True, 'bonus': False, 'bike_stands': 40, 'available_bike_stands': 30, 'available_bikes': 10, 'status': 'OPEN', 'last_update': 1550511211000}, {'number': 66, 'contract_name': 'Dublin', 'name': 'NEW CENTRAL BANK', 'address': 'New Central Bank', 'position': {'lat': 53.347122, 'lng': -6.234749}, 'banking': False, 'bonus': False, 'bike_stands': 40, 'available_bike_stands': 37, 'available_bikes': 3, 'status': 'OPEN', 'last_update': 1550511230000}, {'number': 104, 'contract_name': 'Dublin', 'name': 'GRANGEGORMAN LOWER (CENTRAL)', 'address': 'Grangegorman Lower (Central)', 'position': {'lat': 53.355173, 'lng': -6.278424}, 'banking': True, 'bonus': False, 'bike_stands': 40, 'available_bike_stands': 40, 'available_bikes': 0, 'status': 'OPEN', 'last_update': 1550511095000}, {'number': 101, 'contract_name': 'Dublin', 'name': 'KING STREET NORTH', 'address': 'King Street North', 'position': {'lat': 53.350291, 'lng': -6.273507}, 'banking': False, 'bonus': False, 'bike_stands': 30, 'available_bike_stands': 28, 'available_bikes': 2, 'status': 'OPEN', 'last_update': 1550510874000}, {'number': 115, 'contract_name': 'Dublin', 'name': 'KILLARNEY STREET', 'address': 'Killarney Street', 'position': {'lat': 53.354845, 'lng': -6.247579}, 'banking': False, 'bonus': False, 'bike_stands': 30, 'available_bike_stands': 22, 'available_bikes': 8, 'status': 'OPEN', 'last_update': 1550511064000}, {'number': 47, 'contract_name': 'Dublin', 'name': 'HERBERT STREET', 'address': 'Herbert Street', 'position': {'lat': 53.335742, 'lng': -6.24551}, 'banking': False, 'bonus': False, 'bike_stands': 40, 'available_bike_stands': 35, 'available_bikes': 5, 'status': 'OPEN', 'last_update': 1550511182000}, {'number': 8, 'contract_name': 'Dublin', 'name': 'CUSTOM HOUSE QUAY', 'address': 'Custom House Quay', 'position': {'lat': 53.347884, 'lng': -6.248048}, 'banking': False, 'bonus': False, 'bike_stands': 30, 'available_bike_stands': 11, 'available_bikes': 18, 'status': 'OPEN', 'last_update': 1550511227000}, {'number': 27, 'contract_name': 'Dublin', 'name': 'MOLESWORTH STREET', 'address': 'Molesworth Street', 'position': {'lat': 53.341288, 'lng': -6.258117}, 'banking': False, 'bonus': False, 'bike_stands': 20, 'available_bike_stands': 20, 'available_bikes': 0, 'status': 'OPEN', 'last_update': 1550511036000}, {'number': 16, 'contract_name': 'Dublin', 'name': 'GEORGES QUAY', 'address': 'Georges Quay', 'position': {'lat': 53.347508, 'lng': -6.252192}, 'banking': False, 'bonus': False, 'bike_stands': 20, 'available_bike_stands': 1, 'available_bikes': 19, 'status': 'OPEN', 'last_update': 1550511036000}, {'number': 96, 'contract_name': 'Dublin', 'name': 'KILMAINHAM LANE', 'address': 'Kilmainham Lane', 'position': {'lat': 53.341805, 'lng': -6.305085}, 'banking': False, 'bonus': False, 'bike_stands': 30, 'available_bike_stands': 28, 'available_bikes': 2, 'status': 'OPEN', 'last_update': 1550510782000}, {'number': 82, 'contract_name': 'Dublin', 'name': 'MOUNT BROWN', 'address': 'Mount Brown', 'position': {'lat': 53.341645, 'lng': -6.29719}, 'banking': False, 'bonus': False, 'bike_stands': 22, 'available_bike_stands': 22, 'available_bikes': 0, 'status': 'OPEN', 'last_update': 1550510736000}, {'number': 76, 'contract_name': 'Dublin', 'name': 'MARKET STREET SOUTH', 'address': 'Market Street South', 'position': {'lat': 53.342296, 'lng': -6.287661}, 'banking': False, 'bonus': False, 'bike_stands': 38, 'available_bike_stands': 35, 'available_bikes': 3, 'status': 'OPEN', 'last_update': 1550511129000}, {'number': 71, 'contract_name': 'Dublin', 'name': 'KEVIN STREET', 'address': 'Kevin Street', 'position': {'lat': 53.337757, 'lng': -6.267699}, 'banking': True, 'bonus': False, 'bike_stands': 40, 'available_bike_stands': 37, 'available_bikes': 3, 'status': 'OPEN', 'last_update': 1550511241000}, {'number': 79, 'contract_name': 'Dublin', 'name': 'ECCLES STREET EAST', 'address': 'Eccles Street East', 'position': {'lat': 53.358115, 'lng': -6.265601}, 'banking': False, 'bonus': False, 'bike_stands': 27, 'available_bike_stands': 23, 'available_bikes': 4, 'status': 'OPEN', 'last_update': 1550511049000}, {'number': 69, 'contract_name': 'Dublin', 'name': 'GRAND CANAL DOCK', 'address': 'Grand Canal Dock', 'position': {'lat': 53.342638, 'lng': -6.238695}, 'banking': False, 'bonus': False, 'bike_stands': 40, 'available_bike_stands': 24, 'available_bikes': 16, 'status': 'OPEN', 'last_update': 1550511238000}, {'number': 25, 'contract_name': 'Dublin', 'name': 'MERRION SQUARE EAST', 'address': 'Merrion Square East', 'position': {'lat': 53.339434, 'lng': -6.246548}, 'banking': False, 'bonus': False, 'bike_stands': 30, 'available_bike_stands': 19, 'available_bikes': 11, 'status': 'OPEN', 'last_update': 1550511097000}, {'number': 51, 'contract_name': 'Dublin', 'name': 'YORK STREET WEST', 'address': 'York Street West', 'position': {'lat': 53.339334, 'lng': -6.264699}, 'banking': False, 'bonus': False, 'bike_stands': 40, 'available_bike_stands': 23, 'available_bikes': 17, 'status': 'OPEN', 'last_update': 1550511174000}, {'number': 37, 'contract_name': 'Dublin', 'name': \"ST. STEPHEN'S GREEN SOUTH\", 'address': \"St. Stephen's Green South\", 'position': {'lat': 53.337494, 'lng': -6.26199}, 'banking': True, 'bonus': False, 'bike_stands': 30, 'available_bike_stands': 30, 'available_bikes': 0, 'status': 'OPEN', 'last_update': 1550511043000}, {'number': 59, 'contract_name': 'Dublin', 'name': 'DENMARK STREET GREAT', 'address': 'Denmark Street Great', 'position': {'lat': 53.35561, 'lng': -6.261397}, 'banking': False, 'bonus': False, 'bike_stands': 20, 'available_bike_stands': 19, 'available_bikes': 1, 'status': 'OPEN', 'last_update': 1550510935000}, {'number': 95, 'contract_name': 'Dublin', 'name': 'ROYAL HOSPITAL', 'address': 'Royal Hospital', 'position': {'lat': 53.343897, 'lng': -6.29706}, 'banking': True, 'bonus': False, 'bike_stands': 40, 'available_bike_stands': 30, 'available_bikes': 10, 'status': 'OPEN', 'last_update': 1550511163000}, {'number': 94, 'contract_name': 'Dublin', 'name': 'HEUSTON STATION (CAR PARK)', 'address': 'Heuston Station (Car Park)', 'position': {'lat': 53.346985, 'lng': -6.297804}, 'banking': False, 'bonus': False, 'bike_stands': 40, 'available_bike_stands': 14, 'available_bikes': 26, 'status': 'OPEN', 'last_update': 1550510813000}, {'number': 105, 'contract_name': 'Dublin', 'name': 'GRANGEGORMAN LOWER (NORTH)', 'address': 'Grangegorman Lower (North)', 'position': {'lat': 53.355954, 'lng': -6.278378}, 'banking': False, 'bonus': False, 'bike_stands': 36, 'available_bike_stands': 36, 'available_bikes': 0, 'status': 'OPEN', 'last_update': 1550511102000}, {'number': 36, 'contract_name': 'Dublin', 'name': \"ST. STEPHEN'S GREEN EAST\", 'address': \"St. Stephen's Green East\", 'position': {'lat': 53.337824, 'lng': -6.256035}, 'banking': True, 'bonus': False, 'bike_stands': 40, 'available_bike_stands': 38, 'available_bikes': 1, 'status': 'OPEN', 'last_update': 1550510957000}, {'number': 93, 'contract_name': 'Dublin', 'name': 'HEUSTON STATION (CENTRAL)', 'address': 'Heuston Station (Central)', 'position': {'lat': 53.346603, 'lng': -6.296924}, 'banking': False, 'bonus': False, 'bike_stands': 40, 'available_bike_stands': 0, 'available_bikes': 40, 'status': 'OPEN', 'last_update': 1550511055000}, {'number': 22, 'contract_name': 'Dublin', 'name': 'TOWNSEND STREET', 'address': 'Townsend Street', 'position': {'lat': 53.345922, 'lng': -6.254614}, 'banking': False, 'bonus': False, 'bike_stands': 20, 'available_bike_stands': 2, 'available_bikes': 18, 'status': 'OPEN', 'last_update': 1550511239000}, {'number': 50, 'contract_name': 'Dublin', 'name': 'GEORGES LANE', 'address': \"George's Lane\", 'position': {'lat': 53.35023, 'lng': -6.279696}, 'banking': False, 'bonus': False, 'bike_stands': 40, 'available_bike_stands': 35, 'available_bikes': 5, 'status': 'OPEN', 'last_update': 1550511186000}, {'number': 110, 'contract_name': 'Dublin', 'name': 'PHIBSBOROUGH ROAD', 'address': 'Phibsborough Road', 'position': {'lat': 53.356307, 'lng': -6.273717}, 'banking': False, 'bonus': False, 'bike_stands': 40, 'available_bike_stands': 38, 'available_bikes': 2, 'status': 'OPEN', 'last_update': 1550510915000}, {'number': 12, 'contract_name': 'Dublin', 'name': 'ECCLES STREET', 'address': 'Eccles Street', 'position': {'lat': 53.359246, 'lng': -6.269779}, 'banking': False, 'bonus': False, 'bike_stands': 20, 'available_bike_stands': 16, 'available_bikes': 4, 'status': 'OPEN', 'last_update': 1550511122000}, {'number': 34, 'contract_name': 'Dublin', 'name': 'PORTOBELLO HARBOUR', 'address': 'Portobello Harbour', 'position': {'lat': 53.330362, 'lng': -6.265163}, 'banking': False, 'bonus': False, 'bike_stands': 30, 'available_bike_stands': 11, 'available_bikes': 19, 'status': 'OPEN', 'last_update': 1550511212000}, {'number': 78, 'contract_name': 'Dublin', 'name': 'MATER HOSPITAL', 'address': 'Mater Hospital', 'position': {'lat': 53.359967, 'lng': -6.264828}, 'banking': False, 'bonus': False, 'bike_stands': 40, 'available_bike_stands': 40, 'available_bikes': 0, 'status': 'OPEN', 'last_update': 1550511032000}, {'number': 2, 'contract_name': 'Dublin', 'name': 'BLESSINGTON STREET', 'address': 'Blessington Street', 'position': {'lat': 53.356769, 'lng': -6.26814}, 'banking': True, 'bonus': False, 'bike_stands': 20, 'available_bike_stands': 19, 'available_bikes': 1, 'status': 'OPEN', 'last_update': 1550511227000}, {'number': 75, 'contract_name': 'Dublin', 'name': 'JAMES STREET', 'address': 'James Street', 'position': {'lat': 53.343456, 'lng': -6.287409}, 'banking': True, 'bonus': False, 'bike_stands': 40, 'available_bike_stands': 30, 'available_bikes': 10, 'status': 'OPEN', 'last_update': 1550511231000}, {'number': 111, 'contract_name': 'Dublin', 'name': 'MOUNTJOY SQUARE EAST', 'address': 'Mountjoy Square East', 'position': {'lat': 53.356717, 'lng': -6.256359}, 'banking': True, 'bonus': False, 'bike_stands': 40, 'available_bike_stands': 39, 'available_bikes': 1, 'status': 'OPEN', 'last_update': 1550510799000}, {'number': 26, 'contract_name': 'Dublin', 'name': 'MERRION SQUARE WEST', 'address': 'Merrion Square West', 'position': {'lat': 53.339764, 'lng': -6.251988}, 'banking': True, 'bonus': False, 'bike_stands': 20, 'available_bike_stands': 10, 'available_bikes': 10, 'status': 'OPEN', 'last_update': 1550511231000}, {'number': 65, 'contract_name': 'Dublin', 'name': 'CONVENTION CENTRE', 'address': 'Convention Centre', 'position': {'lat': 53.34744, 'lng': -6.238523}, 'banking': True, 'bonus': False, 'bike_stands': 40, 'available_bike_stands': 17, 'available_bikes': 23, 'status': 'OPEN', 'last_update': 1550511227000}, {'number': 15, 'contract_name': 'Dublin', 'name': 'HARDWICKE STREET', 'address': 'Hardwicke Street', 'position': {'lat': 53.355473, 'lng': -6.264423}, 'banking': False, 'bonus': False, 'bike_stands': 16, 'available_bike_stands': 16, 'available_bikes': 0, 'status': 'OPEN', 'last_update': 1550510689000}, {'number': 86, 'contract_name': 'Dublin', 'name': 'PARKGATE STREET', 'address': 'Parkgate Street', 'position': {'lat': 53.347972, 'lng': -6.291804}, 'banking': True, 'bonus': False, 'bike_stands': 38, 'available_bike_stands': 28, 'available_bikes': 10, 'status': 'OPEN', 'last_update': 1550511234000}, {'number': 35, 'contract_name': 'Dublin', 'name': 'SMITHFIELD', 'address': 'Smithfield', 'position': {'lat': 53.347692, 'lng': -6.278214}, 'banking': False, 'bonus': False, 'bike_stands': 30, 'available_bike_stands': 24, 'available_bikes': 6, 'status': 'OPEN', 'last_update': 1550511238000}, {'number': 10, 'contract_name': 'Dublin', 'name': 'DAME STREET', 'address': 'Dame Street', 'position': {'lat': 53.344007, 'lng': -6.266802}, 'banking': True, 'bonus': False, 'bike_stands': 16, 'available_bike_stands': 14, 'available_bikes': 2, 'status': 'OPEN', 'last_update': 1550511166000}, {'number': 100, 'contract_name': 'Dublin', 'name': 'HEUSTON BRIDGE (SOUTH)', 'address': 'Heuston Bridge (South)', 'position': {'lat': 53.347106, 'lng': -6.292041}, 'banking': False, 'bonus': False, 'bike_stands': 25, 'available_bike_stands': 6, 'available_bikes': 19, 'status': 'OPEN', 'last_update': 1550511178000}, {'number': 24, 'contract_name': 'Dublin', 'name': 'CATHAL BRUGHA STREET', 'address': 'Cathal Brugha Street', 'position': {'lat': 53.352149, 'lng': -6.260533}, 'banking': False, 'bonus': False, 'bike_stands': 20, 'available_bike_stands': 11, 'available_bikes': 9, 'status': 'OPEN', 'last_update': 1550511089000}, {'number': 64, 'contract_name': 'Dublin', 'name': 'SANDWITH STREET', 'address': 'Sandwith Street', 'position': {'lat': 53.345203, 'lng': -6.247163}, 'banking': True, 'bonus': False, 'bike_stands': 40, 'available_bike_stands': 11, 'available_bikes': 29, 'status': 'OPEN', 'last_update': 1550511219000}, {'number': 109, 'contract_name': 'Dublin', 'name': 'BUCKINGHAM STREET LOWER', 'address': 'Buckingham Street Lower', 'position': {'lat': 53.353331, 'lng': -6.249319}, 'banking': False, 'bonus': False, 'bike_stands': 29, 'available_bike_stands': 21, 'available_bikes': 8, 'status': 'OPEN', 'last_update': 1550511220000}, {'number': 85, 'contract_name': 'Dublin', 'name': 'ROTHE ABBEY', 'address': 'Rothe Abbey', 'position': {'lat': 53.338776, 'lng': -6.30395}, 'banking': True, 'bonus': False, 'bike_stands': 35, 'available_bike_stands': 27, 'available_bikes': 8, 'status': 'OPEN', 'last_update': 1550511189000}, {'number': 107, 'contract_name': 'Dublin', 'name': 'CHARLEVILLE ROAD', 'address': 'Charleville Road', 'position': {'lat': 53.359157, 'lng': -6.281866}, 'banking': True, 'bonus': False, 'bike_stands': 40, 'available_bike_stands': 40, 'available_bikes': 0, 'status': 'OPEN', 'last_update': 1550511177000}, {'number': 33, 'contract_name': 'Dublin', 'name': \"PRINCES STREET / O'CONNELL STREET\", 'address': \"Princes Street / O'Connell Street\", 'position': {'lat': 53.349013, 'lng': -6.260311}, 'banking': True, 'bonus': False, 'bike_stands': 23, 'available_bike_stands': 8, 'available_bikes': 15, 'status': 'OPEN', 'last_update': 1550511230000}, {'number': 44, 'contract_name': 'Dublin', 'name': 'UPPER SHERRARD STREET', 'address': 'Upper Sherrard Street', 'position': {'lat': 53.358437, 'lng': -6.260641}, 'banking': False, 'bonus': False, 'bike_stands': 30, 'available_bike_stands': 20, 'available_bikes': 10, 'status': 'OPEN', 'last_update': 1550511221000}, {'number': 89, 'contract_name': 'Dublin', 'name': 'FITZWILLIAM SQUARE EAST', 'address': 'Fitzwilliam Square East', 'position': {'lat': 53.335211, 'lng': -6.2509}, 'banking': True, 'bonus': False, 'bike_stands': 40, 'available_bike_stands': 24, 'available_bikes': 16, 'status': 'OPEN', 'last_update': 1550511032000}, {'number': 57, 'contract_name': 'Dublin', 'name': 'GRATTAN STREET', 'address': 'Grattan Street', 'position': {'lat': 53.339629, 'lng': -6.243778}, 'banking': False, 'bonus': False, 'bike_stands': 23, 'available_bike_stands': 16, 'available_bikes': 7, 'status': 'OPEN', 'last_update': 1550511200000}, {'number': 80, 'contract_name': 'Dublin', 'name': 'ST JAMES HOSPITAL (LUAS)', 'address': 'St James Hospital (Luas)', 'position': {'lat': 53.341359, 'lng': -6.292951}, 'banking': False, 'bonus': False, 'bike_stands': 40, 'available_bike_stands': 38, 'available_bikes': 2, 'status': 'OPEN', 'last_update': 1550511088000}, {'number': 41, 'contract_name': 'Dublin', 'name': 'HARCOURT TERRACE', 'address': 'Harcourt Terrace', 'position': {'lat': 53.332763, 'lng': -6.257942}, 'banking': False, 'bonus': False, 'bike_stands': 20, 'available_bike_stands': 20, 'available_bikes': 0, 'status': 'OPEN', 'last_update': 1550511241000}, {'number': 3, 'contract_name': 'Dublin', 'name': 'BOLTON STREET', 'address': 'Bolton Street', 'position': {'lat': 53.351182, 'lng': -6.269859}, 'banking': False, 'bonus': False, 'bike_stands': 20, 'available_bike_stands': 19, 'available_bikes': 1, 'status': 'OPEN', 'last_update': 1550510721000}, {'number': 46, 'contract_name': 'Dublin', 'name': 'STRAND STREET GREAT', 'address': 'Strand Street Great', 'position': {'lat': 53.347082, 'lng': -6.264192}, 'banking': True, 'bonus': False, 'bike_stands': 35, 'available_bike_stands': 13, 'available_bikes': 6, 'status': 'OPEN', 'last_update': 1550511241000}, {'number': 40, 'contract_name': 'Dublin', 'name': 'JERVIS STREET', 'address': 'Jervis Street', 'position': {'lat': 53.3483, 'lng': -6.266651}, 'banking': True, 'bonus': False, 'bike_stands': 21, 'available_bike_stands': 20, 'available_bikes': 1, 'status': 'OPEN', 'last_update': 1550511162000}, {'number': 29, 'contract_name': 'Dublin', 'name': 'ORMOND QUAY UPPER', 'address': 'Ormond Quay Upper', 'position': {'lat': 53.346057, 'lng': -6.268001}, 'banking': True, 'bonus': False, 'bike_stands': 29, 'available_bike_stands': 29, 'available_bikes': 0, 'status': 'OPEN', 'last_update': 1550510879000}, {'number': 70, 'contract_name': 'Dublin', 'name': 'BARROW STREET', 'address': 'Barrow Street', 'position': {'lat': 53.341655, 'lng': -6.236198}, 'banking': True, 'bonus': False, 'bike_stands': 28, 'available_bike_stands': 16, 'available_bikes': 12, 'status': 'OPEN', 'last_update': 1550511115000}, {'number': 103, 'contract_name': 'Dublin', 'name': 'GRANGEGORMAN LOWER (SOUTH)', 'address': 'Grangegorman Lower (South)', 'position': {'lat': 53.354663, 'lng': -6.278681}, 'banking': False, 'bonus': False, 'bike_stands': 40, 'available_bike_stands': 34, 'available_bikes': 6, 'status': 'OPEN', 'last_update': 1550510973000}, {'number': 28, 'contract_name': 'Dublin', 'name': 'MOUNTJOY SQUARE WEST', 'address': 'Mountjoy Square West', 'position': {'lat': 53.356299, 'lng': -6.258586}, 'banking': False, 'bonus': False, 'bike_stands': 30, 'available_bike_stands': 28, 'available_bikes': 2, 'status': 'OPEN', 'last_update': 1550511097000}, {'number': 39, 'contract_name': 'Dublin', 'name': 'WILTON TERRACE', 'address': 'Wilton Terrace', 'position': {'lat': 53.332383, 'lng': -6.252717}, 'banking': True, 'bonus': False, 'bike_stands': 20, 'available_bike_stands': 16, 'available_bikes': 4, 'status': 'OPEN', 'last_update': 1550511228000}, {'number': 83, 'contract_name': 'Dublin', 'name': 'EMMET ROAD', 'address': 'Emmet Road', 'position': {'lat': 53.340714, 'lng': -6.308191}, 'banking': False, 'bonus': False, 'bike_stands': 40, 'available_bike_stands': 36, 'available_bikes': 4, 'status': 'OPEN', 'last_update': 1550511214000}, {'number': 92, 'contract_name': 'Dublin', 'name': 'HEUSTON BRIDGE (NORTH)', 'address': 'Heuston Bridge (North)', 'position': {'lat': 53.347802, 'lng': -6.292432}, 'banking': False, 'bonus': False, 'bike_stands': 40, 'available_bike_stands': 8, 'available_bikes': 32, 'status': 'OPEN', 'last_update': 1550511074000}, {'number': 21, 'contract_name': 'Dublin', 'name': 'LEINSTER STREET SOUTH', 'address': 'Leinster Street South', 'position': {'lat': 53.34218, 'lng': -6.254485}, 'banking': False, 'bonus': False, 'bike_stands': 30, 'available_bike_stands': 4, 'available_bikes': 26, 'status': 'OPEN', 'last_update': 1550511218000}, {'number': 88, 'contract_name': 'Dublin', 'name': 'BLACKHALL PLACE', 'address': 'Blackhall Place', 'position': {'lat': 53.3488, 'lng': -6.281637}, 'banking': False, 'bonus': False, 'bike_stands': 30, 'available_bike_stands': 30, 'available_bikes': 0, 'status': 'OPEN', 'last_update': 1550510829000}]\n"
     ]
    }
   ],
   "source": [
    "print(dbds)"
   ]
  },
  {
   "cell_type": "code",
   "execution_count": null,
   "metadata": {},
   "outputs": [],
   "source": []
  },
  {
   "cell_type": "code",
   "execution_count": null,
   "metadata": {},
   "outputs": [],
   "source": []
  },
  {
   "cell_type": "code",
   "execution_count": null,
   "metadata": {},
   "outputs": [],
   "source": []
  },
  {
   "cell_type": "code",
   "execution_count": null,
   "metadata": {},
   "outputs": [],
   "source": [
    "\n"
   ]
  },
  {
   "cell_type": "code",
   "execution_count": null,
   "metadata": {},
   "outputs": [],
   "source": []
  },
  {
   "cell_type": "code",
   "execution_count": null,
   "metadata": {},
   "outputs": [],
   "source": []
  },
  {
   "cell_type": "code",
   "execution_count": 73,
   "metadata": {},
   "outputs": [],
   "source": []
  },
  {
   "cell_type": "code",
   "execution_count": 76,
   "metadata": {},
   "outputs": [],
   "source": []
  },
  {
   "cell_type": "code",
   "execution_count": 80,
   "metadata": {},
   "outputs": [],
   "source": []
  },
  {
   "cell_type": "code",
   "execution_count": 7,
   "metadata": {},
   "outputs": [],
   "source": [
    "#login details for AWS RDS DB\n",
    "\n",
    "host=\"dbproject.cqkm9hf5jptc.eu-west-1.rds.amazonaws.com\"\n",
    "port=3306\n",
    "dbname=\"dublinbikesDB\"\n",
    "user=\"user\"\n",
    "password=\"dublinbikes\""
   ]
  },
  {
   "cell_type": "code",
   "execution_count": 8,
   "metadata": {},
   "outputs": [],
   "source": [
    "#create a connection with the details above passed in\n",
    "conn = pymysql.connect(host, user=user,port=port, passwd=password, db=dbname)"
   ]
  },
  {
   "cell_type": "code",
   "execution_count": null,
   "metadata": {},
   "outputs": [],
   "source": []
  },
  {
   "cell_type": "code",
   "execution_count": 9,
   "metadata": {},
   "outputs": [],
   "source": [
    "#this creates a cursor object that you need to execute operations on the DB\n",
    "cursorObject = conn.cursor()\n",
    "\n",
    "\n",
    "#This hideous statement inserts all the info from the variables a few cells above. I'm going to make it pretty, I promise. Note the escape characters for if you're doing one.\n",
    "insertStatement = \"INSERT INTO weatherInfo (dateTime, weatherID, weatherMain, weatherDescr, weatherIcon, temperature, pressure, humidity, tempMin, tempMax, visibility, windSpeed, windDeg, clouds) VALUES (\\\"\" + str(currentTime) + \"\\\",\\\"\" + str(weatherID) + \"\\\",\\\"\" + str(weatherMain) + \"\\\",\\\"\"+ str(weatherDescr) + \"\\\",\\\"\" + str(weatherIcon) + \"\\\",\\\"\" + str(temp) + \"\\\",\\\"\" + str(pressure) + \"\\\",\\\"\" + str(humidity) + \"\\\",\\\"\" + str(tempMin) + \"\\\",\\\"\" + str(tempMax) + \"\\\",\\\"\" + str(visibility) + \"\\\",\\\"\" + str(windSpeed) + \"\\\",\\\"\" + str(windDegree) + \"\\\",\\\"\" + str(clouds) + \"\\\")\"\n",
    "\n"
   ]
  },
  {
   "cell_type": "code",
   "execution_count": 10,
   "metadata": {},
   "outputs": [
    {
     "name": "stdout",
     "output_type": "stream",
     "text": [
      "INSERT INTO weatherInfo (dateTime, weatherID, weatherMain, weatherDescr, weatherIcon, temperature, pressure, humidity, tempMin, tempMax, visibility, windSpeed, windDeg, clouds) VALUES (\"2019-02-18 16:32\",\"521\",\"Rain\",\"shower rain\",\"09d\",\"9.49\",\"1008\",\"66\",\"9\",\"10\",\"10000\",\"5.7\",\"240\",\"40\")\n"
     ]
    }
   ],
   "source": [
    "#this is just for debug\n",
    "print(insertStatement)"
   ]
  },
  {
   "cell_type": "code",
   "execution_count": 11,
   "metadata": {},
   "outputs": [
    {
     "data": {
      "text/plain": [
       "1"
      ]
     },
     "execution_count": 11,
     "metadata": {},
     "output_type": "execute_result"
    }
   ],
   "source": [
    "#actually executes the insert statement defined above - note you also have to commit it for it to take effect\n",
    "#afaik a return value of 1 means it was successful\n",
    "cursorObject.execute(insertStatement)"
   ]
  },
  {
   "cell_type": "code",
   "execution_count": 12,
   "metadata": {},
   "outputs": [],
   "source": [
    "#this actually causes any changes or queries to be executed\n",
    "conn.commit()"
   ]
  },
  {
   "cell_type": "code",
   "execution_count": 13,
   "metadata": {},
   "outputs": [],
   "source": [
    "#closes the connection to the DB\n",
    "conn.close()"
   ]
  },
  {
   "cell_type": "code",
   "execution_count": null,
   "metadata": {},
   "outputs": [],
   "source": []
  }
 ],
 "metadata": {
  "kernelspec": {
   "display_name": "Python 3",
   "language": "python",
   "name": "python3"
  },
  "language_info": {
   "codemirror_mode": {
    "name": "ipython",
    "version": 3
   },
   "file_extension": ".py",
   "mimetype": "text/x-python",
   "name": "python",
   "nbconvert_exporter": "python",
   "pygments_lexer": "ipython3",
   "version": "3.6.5"
  }
 },
 "nbformat": 4,
 "nbformat_minor": 2
}
